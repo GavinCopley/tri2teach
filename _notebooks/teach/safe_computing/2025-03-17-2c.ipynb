{
 "cells": [
  {
   "cell_type": "raw",
   "metadata": {
    "vscode": {
     "languageId": "raw"
    }
   },
   "source": [
    "---\n",
    "layout: post\n",
    "categories: [CSP Sprint Objectives]\n",
    "title: Safe Computing - 2c\n",
    "description: Safe computing from Collegeboard's AP CSP curriculum\n",
    "type: issues \n",
    "courses: { csp: {week: 9} }\n",
    "comments: true\n",
    "permalink: /csp/teach/safe_computing/c\n",
    "---"
   ]
  },
  {
   "cell_type": "markdown",
   "metadata": {},
   "source": [
    "# Key Topic - IOC-2.C\n",
    "Explain how unauthorized access to computing resources is gained."
   ]
  },
  {
   "cell_type": "markdown",
   "metadata": {},
   "source": [
    "## Phishing - IOC-2.C.1\n",
    "Phishing is a technique that attempts to trick a user into providing personal information. That personal information can then be used to access sensitive online resources, such as bank accounts and emails.\n",
    "\n",
    "- A lot of you have seen phishing before\n",
    "- Common examples are email phishing or mobile phishing\n",
    "- Below is a real example of mobile phishing that Jacob received\n",
    "\n",
    "![mobile]({{site.baseurl}}/images/mobile_phishing.png)\n",
    "\n",
    "## Keylogging - IOC-2.C.2\n",
    "Keylogging is the use of a program to record every keystroke made by a computer user in order to gain fraudulent access to passwords and other confidential information.\n",
    "\n",
    "- Keylogging does have benefits: parental controls or employee monitoring in a business setting\n",
    "- Other than that, keylogging almost always happens when you install malware\n",
    "- An application will record your keystrokes"
   ]
  }
 ],
 "metadata": {
  "language_info": {
   "name": "python"
  }
 },
 "nbformat": 4,
 "nbformat_minor": 2
}
