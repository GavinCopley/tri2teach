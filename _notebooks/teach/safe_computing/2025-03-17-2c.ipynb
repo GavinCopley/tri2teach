{
 "cells": [
  {
   "cell_type": "raw",
   "metadata": {
    "vscode": {
     "languageId": "raw"
    }
   },
   "source": [
    "---\n",
    "layout: post\n",
    "categories: [CSP Sprint Objectives]\n",
    "title: Safe Computing - 2c\n",
    "description: Safe computing from Collegeboard's AP CSP curriculum\n",
    "type: issues \n",
    "courses: { csp: {week: 9} }\n",
    "comments: true\n",
    "permalink: /csp/teach/safe_computing/c\n",
    "---"
   ]
  },
  {
   "cell_type": "markdown",
   "metadata": {},
   "source": [
    "# Key Topic - IOC-2.C\n",
    "Explain how unauthorized access to computing resources is gained."
   ]
  },
  {
   "cell_type": "markdown",
   "metadata": {},
   "source": [
    "## Phishing - IOC-2.C.1\n",
    "Phishing is a technique that attempts to trick a user into providing personal information. That personal information can then be used to access sensitive online resources, such as bank accounts and emails.\n",
    "\n",
    "- A lot of you have seen phishing before\n",
    "- Common examples are email phishing or mobile phishing\n",
    "- Below is a real example of mobile phishing that Jacob received\n",
    "- Prevention: Don't click on links from people you don't know or don't trust\n",
    "\n",
    "![mobile]({{site.baseurl}}/images/mobile_phishing.png)\n",
    "\n",
    "## Keylogging - IOC-2.C.2\n",
    "Keylogging is the use of a program to record every keystroke made by a computer user in order to gain fraudulent access to passwords and other confidential information.\n",
    "\n",
    "- Keylogging does have a few benefits: parental controls or employee monitoring in a business setting\n",
    "- Other than that, keylogging almost always happens when you install malware\n",
    "- An application will record your keystrokes\n",
    "- If you type in a password and username, it would be logged\n",
    "- Prevention: Don't install untrusted software or apps\n",
    "\n",
    "## Data Interception - IOC-2.C.3\n",
    "Data sent over public networks can be intercepted, analyzed, and modified. One way that this can happen is through a rogue access point.\n",
    "\n",
    "- Examples of this can be seen when people set-up fake wifi networks and capture all data being transferred to it or DNS spoofing, which is when an attacker sends you to a unintended IP address after they hijack a DNS server.\n",
    "- Prevention: Connect to secure networks and verify the address of websites you connect to are legitimate.\n",
    "\n",
    "## Rogue Access Point - IOC-2.C.4\n",
    "A rogue access point is a wireless access point that gives unauthorized access to secure networks.\n",
    "\n",
    "- This is part of data interception.\n",
    "- It is when a access point is installed on a network without owner knowledge or permission.\n",
    "- Passive interception: a rogue access point can read your data but not able to manipulate it\n",
    "- Active interception: a rogue access point can read and manipulate your data.\n",
    "- Prevention: Connect to trusted networks and only send information via websites with HTTPS (Hypertext Transfer Protocol Secure), to ensure data is encrypted\n",
    "\n",
    "## Malicious Links - IOC-2.C.5\n",
    "A malicious link can be disguised on a web page or in an email message. \n",
    "\n",
    "- These are links that send you to illegitimate websites or links that send you to a malware download.\n",
    "- Seen in many places; websites, ads, emails, texts, etc.\n",
    "- Prevention: Don't click links that you don't know.\n",
    "\n",
    "## Malicious Emails - IOC-2.C.6\n",
    "Unsolicited emails, attachments, links, and forms in emails can be used to compromise the security of a computing system. These can come from unknown senders or from known senders whose security has been compromised. \n",
    "\n",
    "- These emails can contain scams or malicious downloads/attachments.\n",
    "- After downloading an these attachments, most of them send malicious emails from your account to other people you know\n",
    "   - Therefore, these emails can come from people you know\n",
    "- Prevention: Don't download files or click random links from emails. If you have to, make sure its someone you know and can verify if it was actually them.\n",
    "\n",
    "## Freeware - IOC-2.C.7\n",
    "Untrustworthy (often free) downloads from freeware or shareware sites can contain malware.\n",
    "\n",
    "- Freeware is software that is free to install. Shareware is software where you get a free trial and are asked to pay later.\n",
    "- Freeware and shareware aren't always malware, but a lot is\n",
    "- Prevention: Don't download software for free, especially if there is a popular paid version. If you have to, make sure it's from a trusted site that you know and can verify has no malware."
   ]
  }
 ],
 "metadata": {
  "language_info": {
   "name": "python"
  }
 },
 "nbformat": 4,
 "nbformat_minor": 2
}
