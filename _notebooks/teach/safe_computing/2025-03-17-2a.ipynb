{
 "cells": [
  {
   "cell_type": "raw",
   "metadata": {
    "vscode": {
     "languageId": "raw"
    }
   },
   "source": [
    "---\n",
    "layout: post\n",
    "categories: [CSP Sprint Objectives]\n",
    "title: Safe Computing - 2a\n",
    "description: Safe computing from Collegeboard's AP CSP curriculum\n",
    "type: issues \n",
    "courses: { csp: {week: 9} }\n",
    "comments: true\n",
    "permalink: /csp/teach/safe_computing/a\n",
    "---"
   ]
  },
  {
   "cell_type": "markdown",
   "metadata": {},
   "source": [
    "# Privacy risks from data collection"
   ]
  },
  {
   "cell_type": "markdown",
   "metadata": {},
   "source": [
    "### Lesson Objective 2.A\n",
    "Describe the risks to privacy\n",
    "from collecting and storing\n",
    "personal data on a computer\n",
    "system"
   ]
  },
  {
   "cell_type": "markdown",
   "metadata": {},
   "source": [
    "### What is personal data? IOC-2.A.1\n",
    " Information related to an individual that can be used to identify them, such as names, addresses, phone numbers, email addresses, financial details, location, and browsing history.\n"
   ]
  },
  {
   "cell_type": "markdown",
   "metadata": {},
   "source": [
    "### How and When is your data collected\n",
    "\n",
    "- Social media post\n",
    "\n",
    "- Creating an acount on a website\n",
    "\n",
    "- Buying a item\n",
    "\n",
    "- Clicking on a link \n",
    "\n",
    "- Making a google search\n",
    "\n",
    "- Inputing information anywhere"
   ]
  },
  {
   "cell_type": "markdown",
   "metadata": {},
   "source": [
    "<div style=\"text-align: center;\">\n",
    "  <img src=\"{{site.baseurl}}/images/Datacollection.webp\" width=\"650px\" height=\"450px\" alt=\"idk\">\n",
    "</div>"
   ]
  },
  {
   "cell_type": "markdown",
   "metadata": {},
   "source": [
    "Your data is collected when ever you visit a website for purposes like secuirity, marketing, or other analytics. This information collected is called PII"
   ]
  },
  {
   "cell_type": "markdown",
   "metadata": {},
   "source": [
    "PII allows for sites like google to make a personalized searching experience for you based on your age, gender, location, and past search history gathered from other websites."
   ]
  },
  {
   "cell_type": "markdown",
   "metadata": {},
   "source": [
    "PII has a lot of benfits but this data can be minipulated "
   ]
  },
  {
   "cell_type": "markdown",
   "metadata": {},
   "source": [
    "### Risks Of Collecting Personal Data\n",
    "\n",
    "- Unauthorized Access: Hackers may gain access to personal data through security breaches, leading to identity theft or financial fraud.\n",
    "\n",
    "- Data Breaches: If personal data is not securely stored, it can be leaked or stolen, affecting individuals and businesses.\n",
    "\n",
    "- Misuse of Data: Companies might misuse personal data, such as selling it without consent or using it for unethical purposes.\n",
    "\n",
    "- Insider Threats: Employees within an organization may intentionally or unintentionally misuse personal data.\n",
    "\n",
    "- Loss of Privacy: Excessive data collection and surveillance can lead to a lack of personal privacy and increased monitoring by governments or corporations.\n",
    "\n",
    "- Phishing and Social Engineering Attacks: Cybercriminals use personal data to craft convincing scams and manipulate individuals into revealing sensitive information.\n",
    "\n",
    "- Data Persistence: Once data is stored, it can be difficult to delete completely, leading to long-term privacy risks.\n",
    "\n",
    "- Idenity Theft"
   ]
  },
  {
   "cell_type": "markdown",
   "metadata": {},
   "source": [
    "### How Can I Prevent This?\n",
    "\n",
    "- Encryption: Secure stored and transmitted data using encryption methods.\n",
    "\n",
    "- Strong Authentication Methods: Use multi-factor authentication (MFA) to prevent unauthorized access.\n",
    "\n",
    "- Data Minimization: Only collect and store necessary personal data to reduce exposure.\n",
    "\n",
    "- Regular Security Updates: Keep systems updated to prevent vulnerabilities.\n",
    "\n",
    "- Access Control: Limit access to personal data based on roles and responsibilities.\n",
    "\n",
    "- Don't use the same password for everything\n",
    "\n",
    "- Compliance with Regulations: Follow privacy laws and regulations such as GDPR, CCPA, and HIPAA to ensure responsible data handling."
   ]
  }
 ],
 "metadata": {
  "language_info": {
   "name": "python"
  }
 },
 "nbformat": 4,
 "nbformat_minor": 2
}
