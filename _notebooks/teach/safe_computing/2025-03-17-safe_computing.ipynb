{
 "cells": [
  {
   "cell_type": "raw",
   "metadata": {
    "vscode": {
     "languageId": "raw"
    }
   },
   "source": [
    "---\n",
    "layout: post\n",
    "categories: [CSP Sprint Objectives]\n",
    "title: Safe Computing\n",
    "description: Safe computing from Collegeboard's AP CSP curriculum\n",
    "type: issues \n",
    "courses: { csp: {week: 9} }\n",
    "comments: true\n",
    "permalink: /csp/teach/safe_computing\n",
    "---"
   ]
  }
 ],
 "metadata": {
  "language_info": {
   "name": "python"
  }
 },
 "nbformat": 4,
 "nbformat_minor": 2
}
